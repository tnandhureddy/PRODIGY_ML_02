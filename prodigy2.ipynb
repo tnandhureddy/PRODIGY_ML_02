{
 "cells": [
  {
   "cell_type": "code",
   "execution_count": null,
   "metadata": {},
   "outputs": [],
   "source": [
    "import pandas as pd\n",
    "import numpy as np\n",
    "from sklearn.cluster import KMeans\n",
    "import matplotlib.pyplot as plt\n",
    "\n",
    "df = pd.read_csv('/Users/pranavsubedar/Desktop/Mall_Customers (1).csv')\n",
    "df.head()"
   ]
  },
  {
   "cell_type": "markdown",
   "metadata": {},
   "source": [
    "# Here we extract features by which we are going to cluster them\n",
    "features = df[['Annual Income (k$)', 'Spending Score (1-100)']]\n",
    "features.head()"
   ]
  },
  {
   "cell_type": "markdown",
   "metadata": {},
   "source": [
    "# we choose the number of clusters we want to form we go for 5 clusters to get optimal solution\n",
    "num_clusters = 5\n",
    "\n",
    "# Display the chosen number of clusters\n",
    "num_clusters"
   ]
  },
  {
   "cell_type": "markdown",
   "metadata": {},
   "source": [
    "# This is where we initialize the KMeans model\n",
    "kmeans = KMeans(n_clusters=num_clusters, random_state=42)\n",
    "\n",
    "# Display the KMeans model\n",
    "kmeans"
   ]
  },
  {
   "cell_type": "markdown",
   "metadata": {},
   "source": [
    "# Fit the model to the data and get cluster labels\n",
    "df['Cluster'] = kmeans.fit_predict(features)\n",
    "\n",
    "# Display the updated DataFrame with cluster labels\n",
    "df.head()\n"
   ]
  },
  {
   "cell_type": "markdown",
   "metadata": {},
   "source": [
    "# Visualize the clusters\n",
    "plt.figure(figsize=(10, 6))\n",
    "\n",
    "# Plot each cluster\n",
    "for cluster_id in range(num_clusters):\n",
    "    cluster_data = features[df['Cluster'] == cluster_id]\n",
    "    plt.scatter(cluster_data['Annual Income (k$)'], cluster_data['Spending Score (1-100)'],\n",
    "                label=f'Cluster {cluster_id}', alpha=0.7)\n",
    "\n",
    "# Plot the cluster centroids\n",
    "plt.scatter(kmeans.cluster_centers_[:, 0], kmeans.cluster_centers_[:, 1], s=300, c='red', marker='X', label='Centroids')\n",
    "\n",
    "# Customize the plot\n",
    "plt.title('K-means Clustering of Customers')\n",
    "plt.xlabel('Annual Income (k$)')\n",
    "plt.ylabel('Spending Score (1-100)')\n",
    "plt.legend()\n",
    "plt.grid(True)\n",
    "plt.show()"
   ]
  }
 ],
 "metadata": {
  "language_info": {
   "name": "python"
  }
 },
 "nbformat": 4,
 "nbformat_minor": 2
}
